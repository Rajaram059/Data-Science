{
  "nbformat": 4,
  "nbformat_minor": 0,
  "metadata": {
    "colab": {
      "provenance": []
    },
    "kernelspec": {
      "name": "python3",
      "display_name": "Python 3"
    },
    "language_info": {
      "name": "python"
    }
  },
  "cells": [
    {
      "cell_type": "code",
      "source": [
        "import numpy as np\n",
        "import pandas as pd\n",
        "from matplotlib import pyplot as plt\n",
        "from sklearn.model_selection import train_test_split\n",
        "import tensorflow as tf\n",
        "from tensorflow import keras\n",
        "from keras.models import Sequential\n",
        "from keras.layers import Dense\n",
        "from keras.layers import Dropout\n",
        "from sklearn.metrics import confusion_matrix"
      ],
      "metadata": {
        "id": "D8dthf5775Th"
      },
      "execution_count": null,
      "outputs": []
    },
    {
      "cell_type": "code",
      "source": [
        "customer = pd.read_excel('/content/customer-churn.xlsx')\n",
        "customer.head()"
      ],
      "metadata": {
        "colab": {
          "base_uri": "https://localhost:8080/",
          "height": 206
        },
        "id": "Kd5S5Nk4863R",
        "outputId": "f3caff5e-085e-4556-c834-a5a15db30baf"
      },
      "execution_count": 24,
      "outputs": [
        {
          "output_type": "execute_result",
          "data": {
            "text/plain": [
              "     Column Name                              Description of Column  \\\n",
              "0     customerID                              Tells the customer ID   \n",
              "1         gender         Whether the customer is a male or a female   \n",
              "2  SeniorCitizen  Whether the customer is a senior citizen or no...   \n",
              "3        Partner  Whether the customer has a partner or not (Yes...   \n",
              "4     Dependents  Whether the customer has dependents or not (Ye...   \n",
              "\n",
              "  Column Type  \n",
              "0      object  \n",
              "1      object  \n",
              "2       int64  \n",
              "3      Object  \n",
              "4      object  "
            ],
            "text/html": [
              "\n",
              "  <div id=\"df-1c462435-9831-49bc-95f9-24a52645c681\" class=\"colab-df-container\">\n",
              "    <div>\n",
              "<style scoped>\n",
              "    .dataframe tbody tr th:only-of-type {\n",
              "        vertical-align: middle;\n",
              "    }\n",
              "\n",
              "    .dataframe tbody tr th {\n",
              "        vertical-align: top;\n",
              "    }\n",
              "\n",
              "    .dataframe thead th {\n",
              "        text-align: right;\n",
              "    }\n",
              "</style>\n",
              "<table border=\"1\" class=\"dataframe\">\n",
              "  <thead>\n",
              "    <tr style=\"text-align: right;\">\n",
              "      <th></th>\n",
              "      <th>Column Name</th>\n",
              "      <th>Description of Column</th>\n",
              "      <th>Column Type</th>\n",
              "    </tr>\n",
              "  </thead>\n",
              "  <tbody>\n",
              "    <tr>\n",
              "      <th>0</th>\n",
              "      <td>customerID</td>\n",
              "      <td>Tells the customer ID</td>\n",
              "      <td>object</td>\n",
              "    </tr>\n",
              "    <tr>\n",
              "      <th>1</th>\n",
              "      <td>gender</td>\n",
              "      <td>Whether the customer is a male or a female</td>\n",
              "      <td>object</td>\n",
              "    </tr>\n",
              "    <tr>\n",
              "      <th>2</th>\n",
              "      <td>SeniorCitizen</td>\n",
              "      <td>Whether the customer is a senior citizen or no...</td>\n",
              "      <td>int64</td>\n",
              "    </tr>\n",
              "    <tr>\n",
              "      <th>3</th>\n",
              "      <td>Partner</td>\n",
              "      <td>Whether the customer has a partner or not (Yes...</td>\n",
              "      <td>Object</td>\n",
              "    </tr>\n",
              "    <tr>\n",
              "      <th>4</th>\n",
              "      <td>Dependents</td>\n",
              "      <td>Whether the customer has dependents or not (Ye...</td>\n",
              "      <td>object</td>\n",
              "    </tr>\n",
              "  </tbody>\n",
              "</table>\n",
              "</div>\n",
              "    <div class=\"colab-df-buttons\">\n",
              "\n",
              "  <div class=\"colab-df-container\">\n",
              "    <button class=\"colab-df-convert\" onclick=\"convertToInteractive('df-1c462435-9831-49bc-95f9-24a52645c681')\"\n",
              "            title=\"Convert this dataframe to an interactive table.\"\n",
              "            style=\"display:none;\">\n",
              "\n",
              "  <svg xmlns=\"http://www.w3.org/2000/svg\" height=\"24px\" viewBox=\"0 -960 960 960\">\n",
              "    <path d=\"M120-120v-720h720v720H120Zm60-500h600v-160H180v160Zm220 220h160v-160H400v160Zm0 220h160v-160H400v160ZM180-400h160v-160H180v160Zm440 0h160v-160H620v160ZM180-180h160v-160H180v160Zm440 0h160v-160H620v160Z\"/>\n",
              "  </svg>\n",
              "    </button>\n",
              "\n",
              "  <style>\n",
              "    .colab-df-container {\n",
              "      display:flex;\n",
              "      gap: 12px;\n",
              "    }\n",
              "\n",
              "    .colab-df-convert {\n",
              "      background-color: #E8F0FE;\n",
              "      border: none;\n",
              "      border-radius: 50%;\n",
              "      cursor: pointer;\n",
              "      display: none;\n",
              "      fill: #1967D2;\n",
              "      height: 32px;\n",
              "      padding: 0 0 0 0;\n",
              "      width: 32px;\n",
              "    }\n",
              "\n",
              "    .colab-df-convert:hover {\n",
              "      background-color: #E2EBFA;\n",
              "      box-shadow: 0px 1px 2px rgba(60, 64, 67, 0.3), 0px 1px 3px 1px rgba(60, 64, 67, 0.15);\n",
              "      fill: #174EA6;\n",
              "    }\n",
              "\n",
              "    .colab-df-buttons div {\n",
              "      margin-bottom: 4px;\n",
              "    }\n",
              "\n",
              "    [theme=dark] .colab-df-convert {\n",
              "      background-color: #3B4455;\n",
              "      fill: #D2E3FC;\n",
              "    }\n",
              "\n",
              "    [theme=dark] .colab-df-convert:hover {\n",
              "      background-color: #434B5C;\n",
              "      box-shadow: 0px 1px 3px 1px rgba(0, 0, 0, 0.15);\n",
              "      filter: drop-shadow(0px 1px 2px rgba(0, 0, 0, 0.3));\n",
              "      fill: #FFFFFF;\n",
              "    }\n",
              "  </style>\n",
              "\n",
              "    <script>\n",
              "      const buttonEl =\n",
              "        document.querySelector('#df-1c462435-9831-49bc-95f9-24a52645c681 button.colab-df-convert');\n",
              "      buttonEl.style.display =\n",
              "        google.colab.kernel.accessAllowed ? 'block' : 'none';\n",
              "\n",
              "      async function convertToInteractive(key) {\n",
              "        const element = document.querySelector('#df-1c462435-9831-49bc-95f9-24a52645c681');\n",
              "        const dataTable =\n",
              "          await google.colab.kernel.invokeFunction('convertToInteractive',\n",
              "                                                    [key], {});\n",
              "        if (!dataTable) return;\n",
              "\n",
              "        const docLinkHtml = 'Like what you see? Visit the ' +\n",
              "          '<a target=\"_blank\" href=https://colab.research.google.com/notebooks/data_table.ipynb>data table notebook</a>'\n",
              "          + ' to learn more about interactive tables.';\n",
              "        element.innerHTML = '';\n",
              "        dataTable['output_type'] = 'display_data';\n",
              "        await google.colab.output.renderOutput(dataTable, element);\n",
              "        const docLink = document.createElement('div');\n",
              "        docLink.innerHTML = docLinkHtml;\n",
              "        element.appendChild(docLink);\n",
              "      }\n",
              "    </script>\n",
              "  </div>\n",
              "\n",
              "\n",
              "<div id=\"df-fba81152-e277-47cc-b2af-3ad6f6f36a70\">\n",
              "  <button class=\"colab-df-quickchart\" onclick=\"quickchart('df-fba81152-e277-47cc-b2af-3ad6f6f36a70')\"\n",
              "            title=\"Suggest charts\"\n",
              "            style=\"display:none;\">\n",
              "\n",
              "<svg xmlns=\"http://www.w3.org/2000/svg\" height=\"24px\"viewBox=\"0 0 24 24\"\n",
              "     width=\"24px\">\n",
              "    <g>\n",
              "        <path d=\"M19 3H5c-1.1 0-2 .9-2 2v14c0 1.1.9 2 2 2h14c1.1 0 2-.9 2-2V5c0-1.1-.9-2-2-2zM9 17H7v-7h2v7zm4 0h-2V7h2v10zm4 0h-2v-4h2v4z\"/>\n",
              "    </g>\n",
              "</svg>\n",
              "  </button>\n",
              "\n",
              "<style>\n",
              "  .colab-df-quickchart {\n",
              "      --bg-color: #E8F0FE;\n",
              "      --fill-color: #1967D2;\n",
              "      --hover-bg-color: #E2EBFA;\n",
              "      --hover-fill-color: #174EA6;\n",
              "      --disabled-fill-color: #AAA;\n",
              "      --disabled-bg-color: #DDD;\n",
              "  }\n",
              "\n",
              "  [theme=dark] .colab-df-quickchart {\n",
              "      --bg-color: #3B4455;\n",
              "      --fill-color: #D2E3FC;\n",
              "      --hover-bg-color: #434B5C;\n",
              "      --hover-fill-color: #FFFFFF;\n",
              "      --disabled-bg-color: #3B4455;\n",
              "      --disabled-fill-color: #666;\n",
              "  }\n",
              "\n",
              "  .colab-df-quickchart {\n",
              "    background-color: var(--bg-color);\n",
              "    border: none;\n",
              "    border-radius: 50%;\n",
              "    cursor: pointer;\n",
              "    display: none;\n",
              "    fill: var(--fill-color);\n",
              "    height: 32px;\n",
              "    padding: 0;\n",
              "    width: 32px;\n",
              "  }\n",
              "\n",
              "  .colab-df-quickchart:hover {\n",
              "    background-color: var(--hover-bg-color);\n",
              "    box-shadow: 0 1px 2px rgba(60, 64, 67, 0.3), 0 1px 3px 1px rgba(60, 64, 67, 0.15);\n",
              "    fill: var(--button-hover-fill-color);\n",
              "  }\n",
              "\n",
              "  .colab-df-quickchart-complete:disabled,\n",
              "  .colab-df-quickchart-complete:disabled:hover {\n",
              "    background-color: var(--disabled-bg-color);\n",
              "    fill: var(--disabled-fill-color);\n",
              "    box-shadow: none;\n",
              "  }\n",
              "\n",
              "  .colab-df-spinner {\n",
              "    border: 2px solid var(--fill-color);\n",
              "    border-color: transparent;\n",
              "    border-bottom-color: var(--fill-color);\n",
              "    animation:\n",
              "      spin 1s steps(1) infinite;\n",
              "  }\n",
              "\n",
              "  @keyframes spin {\n",
              "    0% {\n",
              "      border-color: transparent;\n",
              "      border-bottom-color: var(--fill-color);\n",
              "      border-left-color: var(--fill-color);\n",
              "    }\n",
              "    20% {\n",
              "      border-color: transparent;\n",
              "      border-left-color: var(--fill-color);\n",
              "      border-top-color: var(--fill-color);\n",
              "    }\n",
              "    30% {\n",
              "      border-color: transparent;\n",
              "      border-left-color: var(--fill-color);\n",
              "      border-top-color: var(--fill-color);\n",
              "      border-right-color: var(--fill-color);\n",
              "    }\n",
              "    40% {\n",
              "      border-color: transparent;\n",
              "      border-right-color: var(--fill-color);\n",
              "      border-top-color: var(--fill-color);\n",
              "    }\n",
              "    60% {\n",
              "      border-color: transparent;\n",
              "      border-right-color: var(--fill-color);\n",
              "    }\n",
              "    80% {\n",
              "      border-color: transparent;\n",
              "      border-right-color: var(--fill-color);\n",
              "      border-bottom-color: var(--fill-color);\n",
              "    }\n",
              "    90% {\n",
              "      border-color: transparent;\n",
              "      border-bottom-color: var(--fill-color);\n",
              "    }\n",
              "  }\n",
              "</style>\n",
              "\n",
              "  <script>\n",
              "    async function quickchart(key) {\n",
              "      const quickchartButtonEl =\n",
              "        document.querySelector('#' + key + ' button');\n",
              "      quickchartButtonEl.disabled = true;  // To prevent multiple clicks.\n",
              "      quickchartButtonEl.classList.add('colab-df-spinner');\n",
              "      try {\n",
              "        const charts = await google.colab.kernel.invokeFunction(\n",
              "            'suggestCharts', [key], {});\n",
              "      } catch (error) {\n",
              "        console.error('Error during call to suggestCharts:', error);\n",
              "      }\n",
              "      quickchartButtonEl.classList.remove('colab-df-spinner');\n",
              "      quickchartButtonEl.classList.add('colab-df-quickchart-complete');\n",
              "    }\n",
              "    (() => {\n",
              "      let quickchartButtonEl =\n",
              "        document.querySelector('#df-fba81152-e277-47cc-b2af-3ad6f6f36a70 button');\n",
              "      quickchartButtonEl.style.display =\n",
              "        google.colab.kernel.accessAllowed ? 'block' : 'none';\n",
              "    })();\n",
              "  </script>\n",
              "</div>\n",
              "\n",
              "    </div>\n",
              "  </div>\n"
            ],
            "application/vnd.google.colaboratory.intrinsic+json": {
              "type": "dataframe",
              "variable_name": "df",
              "summary": "{\n  \"name\": \"df\",\n  \"rows\": 21,\n  \"fields\": [\n    {\n      \"column\": \"Column Name\",\n      \"properties\": {\n        \"dtype\": \"string\",\n        \"num_unique_values\": 21,\n        \"samples\": [\n          \"customerID\",\n          \"PaymentMethod\",\n          \"Contract\"\n        ],\n        \"semantic_type\": \"\",\n        \"description\": \"\"\n      }\n    },\n    {\n      \"column\": \"Description of Column\",\n      \"properties\": {\n        \"dtype\": \"string\",\n        \"num_unique_values\": 21,\n        \"samples\": [\n          \"Tells the customer ID\",\n          \"The customer\\u2019s payment method (Electronic check, Mailed check, Bank transfer (automatic), Credit card (automatic))\",\n          \"The contract term of the customer (Month-to-month, One year, Two year)\"\n        ],\n        \"semantic_type\": \"\",\n        \"description\": \"\"\n      }\n    },\n    {\n      \"column\": \"Column Type\",\n      \"properties\": {\n        \"dtype\": \"category\",\n        \"num_unique_values\": 4,\n        \"samples\": [\n          \"int64\",\n          \"float64\",\n          \"object\"\n        ],\n        \"semantic_type\": \"\",\n        \"description\": \"\"\n      }\n    }\n  ]\n}"
            }
          },
          "metadata": {},
          "execution_count": 24
        }
      ]
    },
    {
      "cell_type": "markdown",
      "source": [
        "**A) Data Manipulation:**"
      ],
      "metadata": {
        "id": "4wL6aa0r-CcR"
      }
    },
    {
      "cell_type": "markdown",
      "source": [
        "a. Find the total number of male customers\n"
      ],
      "metadata": {
        "id": "zidmzeRO-TIj"
      }
    },
    {
      "cell_type": "code",
      "source": [
        "sum(customer['gender']==\"Male\")"
      ],
      "metadata": {
        "id": "6NB-dPte9AiR"
      },
      "execution_count": null,
      "outputs": []
    },
    {
      "cell_type": "markdown",
      "source": [
        "b. Find the total number of customers whose Internet Service is ‘DSL’\n"
      ],
      "metadata": {
        "id": "9dtXk4Ak-aDt"
      }
    },
    {
      "cell_type": "code",
      "source": [
        "sum(customer['InternetService']==\"DSL\")"
      ],
      "metadata": {
        "id": "3AKDISF7-dH8"
      },
      "execution_count": null,
      "outputs": []
    },
    {
      "cell_type": "markdown",
      "source": [
        "c. Extract all the Female senior citizens whose Payment Method is Mailed check & store the\n",
        "result in ‘new_customer’"
      ],
      "metadata": {
        "id": "u-In9tEf-d1W"
      }
    },
    {
      "cell_type": "code",
      "source": [
        "new_customer=customer[(customer['gender']=='Female') &\n",
        "(customer['SeniorCitizen']==1) & (customer['PaymentMethod']=='Mailed check')]\n",
        "new_customer.head()"
      ],
      "metadata": {
        "id": "Tc52-po5-fyF"
      },
      "execution_count": null,
      "outputs": []
    },
    {
      "cell_type": "markdown",
      "source": [
        "\n",
        "d. Extract all those customers whose tenure is less than 10 months or their Total charges is less\n",
        "than 500$ & store the result in ‘new_customer’"
      ],
      "metadata": {
        "id": "awd2J55z-ga9"
      }
    },
    {
      "cell_type": "code",
      "source": [
        "new_customer=customer[(customer['tenure']<10) | (customer['TotalCharges']<500)]\n",
        "new_customer.head()"
      ],
      "metadata": {
        "id": "OEDQe1OC-hqW"
      },
      "execution_count": null,
      "outputs": []
    },
    {
      "cell_type": "markdown",
      "source": [
        "**Data Visualization:**"
      ],
      "metadata": {
        "id": "v9KPIRTsAYLV"
      }
    },
    {
      "cell_type": "markdown",
      "source": [
        "a. Build a pie-chart to show the distribution of customers would be churning out"
      ],
      "metadata": {
        "id": "rhui4eQOAmC5"
      }
    },
    {
      "cell_type": "code",
      "source": [
        "names = customer[\"Churn\"].value_counts().keys().tolist()\n",
        "sizes= customer[\"Churn\"].value_counts().tolist()\n",
        "\n",
        "plt.pie(sizes,labels=names,autopct=\"%0.1f%%\")\n",
        "plt.show()"
      ],
      "metadata": {
        "id": "CjjMLI14AjIz"
      },
      "execution_count": null,
      "outputs": []
    },
    {
      "cell_type": "markdown",
      "source": [
        "b. Build a bar-plot to show the distribution of ‘Internet Service’"
      ],
      "metadata": {
        "id": "FqXwuUYFA9FR"
      }
    },
    {
      "cell_type": "code",
      "source": [
        "plt.bar(customer['InternetService'].value_counts().keys().tolist(),customer['InternetService'].value_counts().tolist(),color='orange')\n",
        "\n",
        "plt.xlabel('Categories of Internet Service')\n",
        "plt.ylabel('Count of categories')\n",
        "plt.title('Distribution of Internet Service')\n",
        "plt.show()"
      ],
      "metadata": {
        "id": "l9HrCfn0A8i6"
      },
      "execution_count": null,
      "outputs": []
    },
    {
      "cell_type": "markdown",
      "source": [
        "**C) Model Building:**"
      ],
      "metadata": {
        "id": "fK8_19c0BVBa"
      }
    },
    {
      "cell_type": "markdown",
      "source": [
        "a. Build a sequential model using Keras, to find out if the customerwouldchurn or not, using\n",
        "‘tenure’ as the feature and ‘Churn’ as the dependent/target column:\n",
        "\n",
        "i. The visible/input layer should have 12 nodes with ‘Relu’ as activation function.\n",
        "\n",
        "ii. This model would have 1 hidden layer with 8 nodes and ‘Relu’ as activation function\n",
        "\n",
        "iii. Use ‘Adam’ as the optimization algorithm\n",
        "\n",
        "iv. Fit the model on the train set, with number of epochs to be 150\n",
        "\n",
        "v. Predict the values on the test set and build a confusion matrix\n",
        "\n",
        "vi. Plot the ‘Accuracy vs Epochs’ graph"
      ],
      "metadata": {
        "id": "ARLYaVBxEArt"
      }
    },
    {
      "cell_type": "code",
      "source": [
        "x=customer[['tenure']]\n",
        "y=customer[['Churn']]\n",
        "x_train,x_test,y_train,y_test = train_test_split(x,y,test_size=0.30,random_state=42)\n",
        "model = Sequential()\n",
        "model.add(Dense(12, input_dim=1, activation='relu'))\n",
        "model.add(Dense(8, activation='relu'))\n",
        "model.add(Dense(1, activation='sigmoid'))\n",
        "model.compile(loss='binary_crossentropy', optimizer='adam', metrics=['accuracy'])\n",
        "model.fit(x_train, y_train, epochs=150,validation_data=(x_test,y_test))\n",
        "np.mean(model.history.history['val_acc'])\n",
        "y_pred=model.predict_classes(x_test)\n",
        "confusion_matrix(y_test,y_pred)\n",
        "plt.plot(model.history.history['acc'])\n",
        "plt.plot(model.history.history['val_acc'])\n",
        "plt.show()"
      ],
      "metadata": {
        "id": "lupmm6juBfEu"
      },
      "execution_count": null,
      "outputs": []
    },
    {
      "cell_type": "markdown",
      "source": [
        "b. Build the 2nd model using same target and feature variables:\n",
        "\n",
        "i. Add a drop-out layer after the input layer with drop-out value of 0.3\n",
        "\n",
        "ii. Add a drop-out layer after the hidden layer with drop-out value of\n",
        "0.2\n",
        "\n",
        "iii. Predict the values on the test set and build a confusion matrix\n",
        "\n",
        "iv. Plot the ‘Accuracy vs Epochs’ graph"
      ],
      "metadata": {
        "id": "vvnMxNBPFAa3"
      }
    },
    {
      "cell_type": "code",
      "source": [
        "model = Sequential()\n",
        "model.add(Dense(12, input_dim=1, activation='relu'))\n",
        "model.add(Dropout(0.3))\n",
        "model.add(Dense(8, activation='relu'))\n",
        "model.add(Dropout(0.2))\n",
        "model.add(Dense(1, activation='sigmoid'))\n",
        "model.compile(loss='binary_crossentropy', optimizer='adam', metrics=['accuracy'])\n",
        "model.fit(x_train, y_train, epochs=150,validation_data=(x_test,y_test))\n",
        "y_pred = model.predict_classes(x_test)\n",
        "confusion_matrix(y_test,y_pred)\n",
        "plt.plot(model.history.history['acc'])\n",
        "plt.plot(model.history.history['val_acc'])\n",
        "plt.show()\n",
        "np.mean(model.history.history['val_acc'])"
      ],
      "metadata": {
        "id": "qw1__fydFG0_"
      },
      "execution_count": null,
      "outputs": []
    },
    {
      "cell_type": "markdown",
      "source": [
        "c. Build the 3rd model using ‘Tenure’, ’Monthly Charges’ & ‘Total Charges’ as the features and\n",
        "‘Churn’ as the dependent/target column:\n",
        "\n",
        "i. The visible/input layer should have 12 nodes with ‘Relu’ as activation function.\n",
        "\n",
        "ii. This model would have 1 hidden layer with 8 nodes and ‘Relu’ as activation function\n",
        "\n",
        "iii. Use ‘Adam’ as the optimization algorithm\n",
        "\n",
        "iv. Fit the model on the train set, with number of epochs to be 150\n",
        "\n",
        "v. Predict the values on the test set and build a confusion matrix\n",
        "\n",
        "vi. Plot the ‘Accuracy vs Epochs’ graph"
      ],
      "metadata": {
        "id": "bQp89YR-GJ0X"
      }
    },
    {
      "cell_type": "code",
      "source": [
        "x=customer[['MonthlyCharges','tenure','TotalCharges']]\n",
        "y=customer[['Churn']]\n",
        "x_train,x_test,y_train,y_test = train_test_split(x,y,test_size=0.30,random_state=42)\n",
        "model = Sequential()\n",
        "model.add(Dense(12, input_dim=3, activation='relu'))\n",
        "model.add(Dense(8, activation='relu'))\n",
        "model.add(Dense(1, activation='sigmoid'))\n",
        "model.compile(loss='binary_crossentropy', optimizer='adam', metrics=['accuracy'])\n",
        "model.fit(x_train, y_train, epochs=150,validation_data=(x_test,y_test))\n",
        "y_pred = model.predict_classes(x_test)\n",
        "confusion_matrix(y_test,y_pred)\n",
        "plt.plot(model.history.history['acc'])\n",
        "plt.plot(model.history.history['val_acc'])\n",
        "plt.show()\n",
        "np.mean(model.history.history['val_acc'])"
      ],
      "metadata": {
        "id": "ySMqFmJAGTIH"
      },
      "execution_count": null,
      "outputs": []
    }
  ]
}